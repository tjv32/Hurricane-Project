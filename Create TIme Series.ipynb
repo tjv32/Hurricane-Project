{
 "cells": [
  {
   "cell_type": "code",
   "execution_count": 173,
   "metadata": {},
   "outputs": [],
   "source": [
    "import pickle\n",
    "import pandas as pd\n",
    "import numpy as np\n",
    "import keras\n",
    "import random\n",
    "from keras import Sequential\n",
    "from keras.layers import Dense, LSTM\n",
    "import sklearn\n",
    "from sklearn.preprocessing import MinMaxScaler"
   ]
  },
  {
   "cell_type": "code",
   "execution_count": 5,
   "metadata": {
    "code_folding": []
   },
   "outputs": [],
   "source": [
    "class Hurricane:\n",
    "    def __init__(self, ocean, id_no, year, name, length, hurr_data ):\n",
    "        self.ocean = ocean\n",
    "        self.id_no = id_no\n",
    "        self.year = year\n",
    "        self.name = name\n",
    "        self.length = length\n",
    "        self.hurr_data = hurr_data"
   ]
  },
  {
   "cell_type": "code",
   "execution_count": 10,
   "metadata": {
    "code_folding": []
   },
   "outputs": [],
   "source": [
    "def load_hurr_data():\n",
    "    filename = r'pickledump.txt'\n",
    "    filehandler = open(filename, 'rb') \n",
    "    new_stuff = pickle.load(filehandler)\n",
    "    return new_stuff"
   ]
  },
  {
   "cell_type": "code",
   "execution_count": 12,
   "metadata": {},
   "outputs": [],
   "source": [
    "hurricanes = load_hurr_data()"
   ]
  },
  {
   "cell_type": "code",
   "execution_count": 118,
   "metadata": {},
   "outputs": [
    {
     "data": {
      "text/plain": [
       "1864"
      ]
     },
     "execution_count": 118,
     "metadata": {},
     "output_type": "execute_result"
    }
   ],
   "source": [
    "len(hurricanes)"
   ]
  },
  {
   "cell_type": "code",
   "execution_count": 157,
   "metadata": {},
   "outputs": [],
   "source": [
    "def is_negative(lista):\n",
    "    #print(lista)\n",
    "    \n",
    "    #print(lista)\n",
    "    for i in range(len(lista)):\n",
    "        #print(lista[i])\n",
    "        if(int(lista[i]) < 0):\n",
    "            return True\n",
    "    return False"
   ]
  },
  {
   "cell_type": "code",
   "execution_count": 167,
   "metadata": {},
   "outputs": [],
   "source": [
    "def create_training_data(hurr_obj, columns, window_length = 5, hurricane_year = 0):\n",
    "    all_inputs = []\n",
    "    all_labels = []\n",
    "    for i in range(len(hurricanes)):\n",
    "        if(int(hurricanes[i].year) > hurricane_year):\n",
    "            current_df = hurricanes[i].hurr_data\n",
    "            current_begin = 0\n",
    "            current_end = current_begin + window_length\n",
    "            while((current_end + 1) < len(current_df)):\n",
    "                hold = current_df[current_begin:current_end]\n",
    "                if(not is_negative(hold[['Max_Pressure']].values) and not is_negative(hold[['Max-wind']].values)):\n",
    "                    hold = hold[columns].values\n",
    "                    input_vals = hold\n",
    "                    labels = current_df[current_end:current_end + 1]\n",
    "                    labels = labels[columns].values\n",
    "\n",
    "                    all_inputs.append(input_vals)\n",
    "                    all_labels.append(labels)\n",
    "                current_begin += 1\n",
    "                current_end +=1\n",
    "    all_inputs = np.array(all_inputs)\n",
    "    all_labels = np.array(all_labels)\n",
    "    return all_inputs, all_labels"
   ]
  },
  {
   "cell_type": "code",
   "execution_count": null,
   "metadata": {},
   "outputs": [],
   "source": []
  },
  {
   "cell_type": "code",
   "execution_count": 168,
   "metadata": {},
   "outputs": [],
   "source": [
    "inputs, labels = create_training_data(hurricanes, ['Latitude', 'Longitude', 'Max-wind', 'Max_Pressure'])"
   ]
  },
  {
   "cell_type": "code",
   "execution_count": 171,
   "metadata": {},
   "outputs": [],
   "source": [
    "def save_data(data):\n",
    "    filename = r'Hurricane_Datav1'\n",
    "    filehandler = open(filename, 'wb')\n",
    "    pickle.dump(data, filehandler)"
   ]
  },
  {
   "cell_type": "code",
   "execution_count": 174,
   "metadata": {},
   "outputs": [],
   "source": [
    "save_data([inputs, labels])"
   ]
  },
  {
   "cell_type": "code",
   "execution_count": 70,
   "metadata": {},
   "outputs": [],
   "source": [
    "r1 = random.randint(-1, 2) "
   ]
  },
  {
   "cell_type": "code",
   "execution_count": 71,
   "metadata": {},
   "outputs": [
    {
     "name": "stdout",
     "output_type": "stream",
     "text": [
      "-1\n"
     ]
    }
   ],
   "source": [
    "print(r1)"
   ]
  },
  {
   "cell_type": "code",
   "execution_count": null,
   "metadata": {},
   "outputs": [],
   "source": []
  },
  {
   "cell_type": "code",
   "execution_count": 169,
   "metadata": {},
   "outputs": [
    {
     "data": {
      "text/plain": [
       "14182"
      ]
     },
     "execution_count": 169,
     "metadata": {},
     "output_type": "execute_result"
    }
   ],
   "source": [
    "len(inputs)"
   ]
  },
  {
   "cell_type": "code",
   "execution_count": 170,
   "metadata": {},
   "outputs": [
    {
     "data": {
      "text/plain": [
       "14182"
      ]
     },
     "execution_count": 170,
     "metadata": {},
     "output_type": "execute_result"
    }
   ],
   "source": [
    "len(labels)"
   ]
  },
  {
   "cell_type": "code",
   "execution_count": 113,
   "metadata": {},
   "outputs": [],
   "source": [
    "all_labels = np.array(labels)"
   ]
  },
  {
   "cell_type": "code",
   "execution_count": 111,
   "metadata": {},
   "outputs": [
    {
     "data": {
      "text/plain": [
       "(39925, 5, 4)"
      ]
     },
     "execution_count": 111,
     "metadata": {},
     "output_type": "execute_result"
    }
   ],
   "source": [
    "all_inputs.shape"
   ]
  },
  {
   "cell_type": "code",
   "execution_count": null,
   "metadata": {},
   "outputs": [],
   "source": []
  }
 ],
 "metadata": {
  "kernelspec": {
   "display_name": "Python 3",
   "language": "python",
   "name": "python3"
  },
  "language_info": {
   "codemirror_mode": {
    "name": "ipython",
    "version": 3
   },
   "file_extension": ".py",
   "mimetype": "text/x-python",
   "name": "python",
   "nbconvert_exporter": "python",
   "pygments_lexer": "ipython3",
   "version": "3.7.3"
  }
 },
 "nbformat": 4,
 "nbformat_minor": 2
}
