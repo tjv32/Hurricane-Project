{
 "cells": [
  {
   "cell_type": "code",
   "execution_count": 2,
   "metadata": {},
   "outputs": [
    {
     "data": {
      "text/plain": [
       "3473.191316141712"
      ]
     },
     "execution_count": 2,
     "metadata": {},
     "output_type": "execute_result"
    }
   ],
   "source": [
    "import pickle\n",
    "import pandas as pd\n",
    "import numpy as np\n",
    "import keras\n",
    "import random\n",
    "import matplotlib.pyplot as plt\n",
    "\n",
    "def load_hurr_data():\n",
    "    filename = r'Hurricane_Datav1'\n",
    "    filehandler = open(filename, 'rb') \n",
    "    new_stuff = pickle.load(filehandler)\n",
    "    return new_stuff\n",
    "\n",
    "from sklearn.model_selection import train_test_split\n",
    "def adjust_data(hurricanes):\n",
    "    X = hurricanes[0]\n",
    "    y = hurricanes[1]\n",
    "    y = y[:,0,:]\n",
    "    X = X.reshape(X.shape[0],5, 4)\n",
    "    data_train, data_test, labels_train, labels_test = train_test_split(X, y, test_size=0.20, random_state=42)\n",
    "    \n",
    "    return data_train, data_test, labels_train, labels_test\n",
    "\n",
    "hurricanes = load_hurr_data()\n",
    "X_train, X_test, y_train, y_test = adjust_data(hurricanes)\n",
    "\n",
    "X_train = (X_train.transpose(0,2,1).reshape(-1,20)) \n",
    "X_test = (X_test.transpose(0,2,1).reshape(-1,20)) \n",
    "\n",
    "\n",
    "from sklearn.linear_model import LinearRegression\n",
    "regressor = LinearRegression()\n",
    "regressor.fit(X_train, y_train)\n",
    "\n",
    "#Predicting the test set result\n",
    "y_pred = regressor.predict(X_test)\n",
    "\n",
    "MSE_MLR = np.square(np.subtract(y_test, y_pred)).mean()\n",
    "MSE_MLR"
   ]
  }
 ],
 "metadata": {
  "kernelspec": {
   "display_name": "Python 3",
   "language": "python",
   "name": "python3"
  },
  "language_info": {
   "codemirror_mode": {
    "name": "ipython",
    "version": 3
   },
   "file_extension": ".py",
   "mimetype": "text/x-python",
   "name": "python",
   "nbconvert_exporter": "python",
   "pygments_lexer": "ipython3",
   "version": "3.7.1"
  }
 },
 "nbformat": 4,
 "nbformat_minor": 2
}
