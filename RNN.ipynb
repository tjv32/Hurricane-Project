{
 "cells": [
  {
   "cell_type": "code",
   "execution_count": 21,
   "metadata": {},
   "outputs": [],
   "source": [
    "import pickle\n",
    "import pandas as pd\n",
    "import numpy as np\n",
    "import keras\n",
    "import random\n",
    "from keras import Sequential\n",
    "from keras.layers import Dense, LSTM\n",
    "from sklearn.model_selection import train_test_split"
   ]
  },
  {
   "cell_type": "code",
   "execution_count": 22,
   "metadata": {},
   "outputs": [],
   "source": [
    "def load_hurr_data():\n",
    "    filename = r'Hurricane_Datav1'\n",
    "    filehandler = open(filename, 'rb') \n",
    "    new_stuff = pickle.load(filehandler)\n",
    "    return new_stuff"
   ]
  },
  {
   "cell_type": "code",
   "execution_count": null,
   "metadata": {},
   "outputs": [],
   "source": []
  },
  {
   "cell_type": "code",
   "execution_count": null,
   "metadata": {},
   "outputs": [],
   "source": []
  },
  {
   "cell_type": "code",
   "execution_count": 23,
   "metadata": {},
   "outputs": [],
   "source": [
    "def adjust_data(hurricanes):\n",
    "    X = hurricanes[0]\n",
    "    y = hurricanes[1]\n",
    "    y = y[:,0,:]\n",
    "    X = X.reshape(X.shape[0],5, 4)\n",
    "    data_train, data_test, labels_train, labels_test = train_test_split(X, y, test_size=0.20, random_state=42)\n",
    "\n",
    "\n",
    "    \n",
    "    \n",
    "    return data_train, data_test, labels_train, labels_test"
   ]
  },
  {
   "cell_type": "code",
   "execution_count": 24,
   "metadata": {},
   "outputs": [],
   "source": [
    "hurricanes = load_hurr_data()\n",
    "X_train, X_test, y_train, y_test = adjust_data(hurricanes)"
   ]
  },
  {
   "cell_type": "code",
   "execution_count": 25,
   "metadata": {},
   "outputs": [
    {
     "name": "stdout",
     "output_type": "stream",
     "text": [
      "Model: \"sequential_3\"\n",
      "_________________________________________________________________\n",
      "Layer (type)                 Output Shape              Param #   \n",
      "=================================================================\n",
      "lstm_4 (LSTM)                (None, 5, 30)             4200      \n",
      "_________________________________________________________________\n",
      "lstm_5 (LSTM)                (None, 5, 30)             7320      \n",
      "_________________________________________________________________\n",
      "lstm_6 (LSTM)                (None, 30)                7320      \n",
      "_________________________________________________________________\n",
      "dense_2 (Dense)              (None, 4)                 124       \n",
      "=================================================================\n",
      "Total params: 18,964\n",
      "Trainable params: 18,964\n",
      "Non-trainable params: 0\n",
      "_________________________________________________________________\n"
     ]
    }
   ],
   "source": [
    "model = Sequential()\n",
    "model.add(LSTM(units=30, return_sequences= True, input_shape=(X_train.shape[1],4)))\n",
    "model.add(LSTM(units=30, return_sequences=True))\n",
    "model.add(LSTM(units=30))\n",
    "model.add(Dense(units=4))\n",
    "model.summary()"
   ]
  },
  {
   "cell_type": "code",
   "execution_count": null,
   "metadata": {},
   "outputs": [],
   "source": []
  },
  {
   "cell_type": "code",
   "execution_count": 52,
   "metadata": {},
   "outputs": [
    {
     "name": "stdout",
     "output_type": "stream",
     "text": [
      "Epoch 1/100\n",
      "11345/11345 [==============================] - 3s 240us/step - loss: 225222.7212\n",
      "Epoch 2/100\n",
      "11345/11345 [==============================] - 2s 169us/step - loss: 219924.2256\n",
      "Epoch 3/100\n",
      "11345/11345 [==============================] - 2s 170us/step - loss: 214810.2685\n",
      "Epoch 4/100\n",
      "11345/11345 [==============================] - 2s 170us/step - loss: 209836.4519\n",
      "Epoch 5/100\n",
      "11345/11345 [==============================] - 2s 177us/step - loss: 204968.9051\n",
      "Epoch 6/100\n",
      "11345/11345 [==============================] - 2s 176us/step - loss: 200185.4201\n",
      "Epoch 7/100\n",
      "11345/11345 [==============================] - 2s 178us/step - loss: 195476.0814\n",
      "Epoch 8/100\n",
      "11345/11345 [==============================] - 2s 204us/step - loss: 190836.4973\n",
      "Epoch 9/100\n",
      "11345/11345 [==============================] - 2s 219us/step - loss: 186264.0279\n",
      "Epoch 10/100\n",
      "11345/11345 [==============================] - 3s 223us/step - loss: 181756.1158\n",
      "Epoch 11/100\n",
      "11345/11345 [==============================] - 3s 224us/step - loss: 177311.9142\n",
      "Epoch 12/100\n",
      "11345/11345 [==============================] - 2s 194us/step - loss: 172928.9922\n",
      "Epoch 13/100\n",
      "11345/11345 [==============================] - 2s 171us/step - loss: 168607.9605\n",
      "Epoch 14/100\n",
      "11345/11345 [==============================] - 2s 172us/step - loss: 164348.0202\n",
      "Epoch 15/100\n",
      "11345/11345 [==============================] - 2s 168us/step - loss: 160147.7630\n",
      "Epoch 16/100\n",
      "11345/11345 [==============================] - 2s 173us/step - loss: 156007.2943\n",
      "Epoch 17/100\n",
      "11345/11345 [==============================] - 2s 172us/step - loss: 151925.6692\n",
      "Epoch 18/100\n",
      "11345/11345 [==============================] - 2s 170us/step - loss: 147903.4584\n",
      "Epoch 19/100\n",
      "11345/11345 [==============================] - 2s 171us/step - loss: 143940.1087\n",
      "Epoch 20/100\n",
      "11345/11345 [==============================] - 2s 174us/step - loss: 140035.1207\n",
      "Epoch 21/100\n",
      "11345/11345 [==============================] - 2s 176us/step - loss: 136188.3062\n",
      "Epoch 22/100\n",
      "11345/11345 [==============================] - 2s 175us/step - loss: 132399.5255\n",
      "Epoch 23/100\n",
      "11345/11345 [==============================] - 2s 173us/step - loss: 128669.5267\n",
      "Epoch 24/100\n",
      "11345/11345 [==============================] - 2s 177us/step - loss: 124997.5118\n",
      "Epoch 25/100\n",
      "11345/11345 [==============================] - 2s 177us/step - loss: 121382.3509\n",
      "Epoch 26/100\n",
      "11345/11345 [==============================] - 2s 168us/step - loss: 117825.5585\n",
      "Epoch 27/100\n",
      "11345/11345 [==============================] - 2s 198us/step - loss: 114327.8368\n",
      "Epoch 28/100\n",
      "11345/11345 [==============================] - 2s 174us/step - loss: 110887.0521\n",
      "Epoch 29/100\n",
      "11345/11345 [==============================] - 2s 173us/step - loss: 107503.0005\n",
      "Epoch 30/100\n",
      "11345/11345 [==============================] - 2s 169us/step - loss: 104177.7733\n",
      "Epoch 31/100\n",
      "11345/11345 [==============================] - 2s 184us/step - loss: 100910.4062\n",
      "Epoch 32/100\n",
      "11345/11345 [==============================] - 2s 177us/step - loss: 97700.5733\n",
      "Epoch 33/100\n",
      "11345/11345 [==============================] - 3s 263us/step - loss: 94548.4114 0s -\n",
      "Epoch 34/100\n",
      "11345/11345 [==============================] - 2s 190us/step - loss: 91453.3532\n",
      "Epoch 35/100\n",
      "11345/11345 [==============================] - 2s 193us/step - loss: 88415.7105\n",
      "Epoch 36/100\n",
      "11345/11345 [==============================] - 2s 193us/step - loss: 85435.3257\n",
      "Epoch 37/100\n",
      "11345/11345 [==============================] - 2s 214us/step - loss: 82511.7034\n",
      "Epoch 38/100\n",
      "11345/11345 [==============================] - 2s 203us/step - loss: 79645.6961\n",
      "Epoch 39/100\n",
      "11345/11345 [==============================] - 2s 199us/step - loss: 76836.5110\n",
      "Epoch 40/100\n",
      "11345/11345 [==============================] - 2s 180us/step - loss: 74084.4920\n",
      "Epoch 41/100\n",
      "11345/11345 [==============================] - 2s 189us/step - loss: 71389.7448\n",
      "Epoch 42/100\n",
      "11345/11345 [==============================] - 2s 206us/step - loss: 68752.4938\n",
      "Epoch 43/100\n",
      "11345/11345 [==============================] - 2s 201us/step - loss: 66172.1544\n",
      "Epoch 44/100\n",
      "11345/11345 [==============================] - 2s 183us/step - loss: 63648.6251\n",
      "Epoch 45/100\n",
      "11345/11345 [==============================] - 2s 184us/step - loss: 61181.1119\n",
      "Epoch 46/100\n",
      "11345/11345 [==============================] - 2s 183us/step - loss: 58770.4703\n",
      "Epoch 47/100\n",
      "11345/11345 [==============================] - 2s 183us/step - loss: 56416.1611\n",
      "Epoch 48/100\n",
      "11345/11345 [==============================] - 2s 183us/step - loss: 54118.7638\n",
      "Epoch 49/100\n",
      "11345/11345 [==============================] - 2s 185us/step - loss: 51877.1879\n",
      "Epoch 50/100\n",
      "11345/11345 [==============================] - 2s 190us/step - loss: 49692.4080\n",
      "Epoch 51/100\n",
      "11345/11345 [==============================] - 2s 184us/step - loss: 47564.2656\n",
      "Epoch 52/100\n",
      "11345/11345 [==============================] - 2s 185us/step - loss: 45492.0268\n",
      "Epoch 53/100\n",
      "11345/11345 [==============================] - 2s 187us/step - loss: 43474.2280\n",
      "Epoch 54/100\n",
      "11345/11345 [==============================] - 2s 185us/step - loss: 41512.3541\n",
      "Epoch 55/100\n",
      "11345/11345 [==============================] - 2s 193us/step - loss: 39606.5645\n",
      "Epoch 56/100\n",
      "11345/11345 [==============================] - ETA: 0s - loss: 37817.174 - 2s 190us/step - loss: 37757.5207\n",
      "Epoch 57/100\n",
      "11345/11345 [==============================] - 2s 195us/step - loss: 35964.1179\n",
      "Epoch 58/100\n",
      "11345/11345 [==============================] - 2s 187us/step - loss: 34225.5398\n",
      "Epoch 59/100\n",
      "11345/11345 [==============================] - 2s 188us/step - loss: 32542.1472\n",
      "Epoch 60/100\n",
      "11345/11345 [==============================] - 2s 194us/step - loss: 30913.1439\n",
      "Epoch 61/100\n",
      "11345/11345 [==============================] - 2s 186us/step - loss: 29339.1788\n",
      "Epoch 62/100\n",
      "11345/11345 [==============================] - 2s 187us/step - loss: 27819.4213\n",
      "Epoch 63/100\n",
      "11345/11345 [==============================] - 2s 186us/step - loss: 26354.6346\n",
      "Epoch 64/100\n",
      "11345/11345 [==============================] - 2s 197us/step - loss: 24944.2111\n",
      "Epoch 65/100\n",
      "11345/11345 [==============================] - 2s 189us/step - loss: 23587.3714\n",
      "Epoch 66/100\n",
      "11345/11345 [==============================] - 2s 190us/step - loss: 22284.5130\n",
      "Epoch 67/100\n",
      "11345/11345 [==============================] - 2s 200us/step - loss: 21034.3817\n",
      "Epoch 68/100\n",
      "11345/11345 [==============================] - 2s 202us/step - loss: 19837.9050\n",
      "Epoch 69/100\n",
      "11345/11345 [==============================] - 2s 208us/step - loss: 18695.0983\n",
      "Epoch 70/100\n",
      "11345/11345 [==============================] - 2s 202us/step - loss: 17605.2470\n",
      "Epoch 71/100\n",
      "11345/11345 [==============================] - 2s 193us/step - loss: 16568.8764\n",
      "Epoch 72/100\n",
      "11345/11345 [==============================] - 2s 193us/step - loss: 15582.5336\n",
      "Epoch 73/100\n",
      "11345/11345 [==============================] - 2s 202us/step - loss: 14647.6465\n",
      "Epoch 74/100\n",
      "11345/11345 [==============================] - 2s 198us/step - loss: 13764.8047\n",
      "Epoch 75/100\n",
      "11345/11345 [==============================] - 2s 215us/step - loss: 12932.5951\n",
      "Epoch 76/100\n",
      "11345/11345 [==============================] - 2s 208us/step - loss: 12151.1335\n",
      "Epoch 77/100\n",
      "11345/11345 [==============================] - 3s 233us/step - loss: 11419.9901 0s - los\n",
      "Epoch 78/100\n",
      "11345/11345 [==============================] - 2s 195us/step - loss: 10736.6684\n",
      "Epoch 79/100\n",
      "11345/11345 [==============================] - 2s 201us/step - loss: 10101.7867\n",
      "Epoch 80/100\n",
      "11345/11345 [==============================] - 2s 203us/step - loss: 9515.0439\n",
      "Epoch 81/100\n",
      "11345/11345 [==============================] - 2s 198us/step - loss: 8975.2227\n",
      "Epoch 82/100\n",
      "11345/11345 [==============================] - 2s 193us/step - loss: 8481.5045\n",
      "Epoch 83/100\n",
      "11345/11345 [==============================] - 2s 197us/step - loss: 8033.2891\n",
      "Epoch 84/100\n",
      "11345/11345 [==============================] - 2s 191us/step - loss: 7628.8861\n",
      "Epoch 85/100\n",
      "11345/11345 [==============================] - 2s 189us/step - loss: 7267.4079\n",
      "Epoch 86/100\n",
      "11345/11345 [==============================] - 2s 192us/step - loss: 6947.5894\n",
      "Epoch 87/100\n",
      "11345/11345 [==============================] - 2s 189us/step - loss: 6668.3225\n",
      "Epoch 88/100\n"
     ]
    },
    {
     "name": "stdout",
     "output_type": "stream",
     "text": [
      "11345/11345 [==============================] - 2s 191us/step - loss: 6426.7107\n",
      "Epoch 89/100\n",
      "11345/11345 [==============================] - 2s 193us/step - loss: 6220.5776\n",
      "Epoch 90/100\n",
      "11345/11345 [==============================] - 2s 210us/step - loss: 6048.7267\n",
      "Epoch 91/100\n",
      "11345/11345 [==============================] - 2s 210us/step - loss: 5908.2146\n",
      "Epoch 92/100\n",
      "11345/11345 [==============================] - 2s 206us/step - loss: 5796.1533\n",
      "Epoch 93/100\n",
      "11345/11345 [==============================] - 2s 214us/step - loss: 5709.5545\n",
      "Epoch 94/100\n",
      "11345/11345 [==============================] - 3s 221us/step - loss: 5645.1163\n",
      "Epoch 95/100\n",
      "11345/11345 [==============================] - 2s 206us/step - loss: 5598.2728\n",
      "Epoch 96/100\n",
      "11345/11345 [==============================] - 3s 225us/step - loss: 5566.3126\n",
      "Epoch 97/100\n",
      "11345/11345 [==============================] - 2s 216us/step - loss: 5545.3426\n",
      "Epoch 98/100\n",
      "11345/11345 [==============================] - 2s 206us/step - loss: 5532.4377\n",
      "Epoch 99/100\n",
      "11345/11345 [==============================] - 3s 225us/step - loss: 5525.0249\n",
      "Epoch 100/100\n",
      "11345/11345 [==============================] - 3s 237us/step - loss: 5520.9996\n"
     ]
    },
    {
     "data": {
      "text/plain": [
       "<keras.callbacks.callbacks.History at 0x2380d92a780>"
      ]
     },
     "execution_count": 52,
     "metadata": {},
     "output_type": "execute_result"
    }
   ],
   "source": [
    "model.compile(optimizer='adam', loss='mean_squared_error')\n",
    "model.fit(X_train, y_train, epochs=100, batch_size=32)"
   ]
  },
  {
   "cell_type": "code",
   "execution_count": 50,
   "metadata": {},
   "outputs": [],
   "source": [
    "predicted_value= model.predict(X_test)"
   ]
  },
  {
   "cell_type": "code",
   "execution_count": 51,
   "metadata": {},
   "outputs": [
    {
     "data": {
      "text/plain": [
       "227629.10076111162"
      ]
     },
     "execution_count": 51,
     "metadata": {},
     "output_type": "execute_result"
    }
   ],
   "source": [
    "np.square(np.subtract(y_test,predicted_value)).mean()"
   ]
  },
  {
   "cell_type": "code",
   "execution_count": null,
   "metadata": {},
   "outputs": [],
   "source": [
    "y1.shape"
   ]
  },
  {
   "cell_type": "code",
   "execution_count": null,
   "metadata": {},
   "outputs": [],
   "source": [
    "data = X_test"
   ]
  },
  {
   "cell_type": "code",
   "execution_count": 48,
   "metadata": {
    "scrolled": true
   },
   "outputs": [
    {
     "name": "stdout",
     "output_type": "stream",
     "text": [
      "[ 20.6  21.2  21.8  22.4  22.7  56.7  58.5  60.1  61.7  63.2  85.   90.\n",
      "  85.   80.   80.  994.  994.  994.  992.  992. ]\n"
     ]
    }
   ],
   "source": [
    "data1 = (data.transpose(0,2, 1).reshape(-1, 20))\n",
    "print(data1[0])"
   ]
  },
  {
   "cell_type": "code",
   "execution_count": 49,
   "metadata": {},
   "outputs": [
    {
     "data": {
      "text/plain": [
       "array([[ 20.6,  56.7,  85. , 994. ],\n",
       "       [ 21.2,  58.5,  90. , 994. ],\n",
       "       [ 21.8,  60.1,  85. , 994. ],\n",
       "       [ 22.4,  61.7,  80. , 992. ],\n",
       "       [ 22.7,  63.2,  80. , 992. ]])"
      ]
     },
     "execution_count": 49,
     "metadata": {},
     "output_type": "execute_result"
    }
   ],
   "source": [
    "X_test[0]"
   ]
  },
  {
   "cell_type": "code",
   "execution_count": 17,
   "metadata": {},
   "outputs": [
    {
     "data": {
      "text/plain": [
       "(2837, 5, 4)"
      ]
     },
     "execution_count": 17,
     "metadata": {},
     "output_type": "execute_result"
    }
   ],
   "source": [
    "data.shape"
   ]
  },
  {
   "cell_type": "code",
   "execution_count": null,
   "metadata": {},
   "outputs": [],
   "source": []
  }
 ],
 "metadata": {
  "kernelspec": {
   "display_name": "Python 3",
   "language": "python",
   "name": "python3"
  }
 },
 "nbformat": 4,
 "nbformat_minor": 2
}
